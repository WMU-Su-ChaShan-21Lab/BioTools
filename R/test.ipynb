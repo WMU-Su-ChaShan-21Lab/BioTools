{
 "cells": [
  {
   "cell_type": "code",
   "execution_count": 1,
   "outputs": [],
   "source": [
    "# -*- encoding: utf-8 -*-\n",
    "# @File Name      :   test.py\n",
    "# @Create Time    :   2021/12/29 15:48\n",
    "# @Description    :\n",
    "# @Version        :\n",
    "# @License        :   MIT\n",
    "# @Author         :   diklios\n",
    "# @Contact Email  :   diklios5768@gmail.com\n",
    "# @Github         :   https://github.com/diklios5768\n",
    "# @Blog           :\n",
    "# @Motto          :   All our science, measured against reality, is primitive and childlike - and yet it is the most precious thing we have.\n",
    "auth <- 'diklios'\n",
    "# 测试完成后请删除所有代码"
   ],
   "metadata": {
    "collapsed": false,
    "pycharm": {
     "name": "#%%\n"
    }
   }
  },
  {
   "cell_type": "code",
   "execution_count": null,
   "outputs": [],
   "source": [],
   "metadata": {
    "collapsed": false,
    "pycharm": {
     "name": "#%%\n"
    }
   }
  }
 ],
 "metadata": {
  "kernelspec": {
   "display_name": "R",
   "language": "R",
   "name": "ir"
  },
  "language_info": {
   "codemirror_mode": "r",
   "file_extension": ".r",
   "mimetype": "text/x-r-source",
   "name": "R",
   "pygments_lexer": "r",
   "version": "4.0.5"
  }
 },
 "nbformat": 4,
 "nbformat_minor": 5
}