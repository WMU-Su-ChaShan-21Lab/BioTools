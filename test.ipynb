{
 "cells": [
  {
   "cell_type": "code",
   "execution_count": null,
   "metadata": {
    "collapsed": true
   },
   "outputs": [],
   "source": [
    "# -*- encoding: utf-8 -*-\n",
    "\"\"\"\n",
    "@File Name      :   ${NAME}.py\n",
    "@Create Time    :   ${DATE} ${TIME}\n",
    "@Description    :\n",
    "@Version        :\n",
    "@License        :\n",
    "@Author         :   diklios\n",
    "@Contact Email  :   diklios5768@gmail.com\n",
    "@Github         :   https://github.com/diklios5768\n",
    "@Blog           :\n",
    "@Motto          :   All our science, measured against reality, is primitive and childlike - and yet it is the most precious thing we have.\n",
    "\"\"\"\n",
    "__auth__='diklios'\n",
    "# 测试完成后请删除所有代码"
   ]
  }
 ],
 "metadata": {
  "kernelspec": {
   "display_name": "Python 3",
   "language": "python",
   "name": "python3"
  },
  "language_info": {
   "codemirror_mode": {
    "name": "ipython",
    "version": 2
   },
   "file_extension": ".py",
   "mimetype": "text/x-python",
   "name": "python",
   "nbconvert_exporter": "python",
   "pygments_lexer": "ipython2",
   "version": "2.7.6"
  }
 },
 "nbformat": 4,
 "nbformat_minor": 0
}