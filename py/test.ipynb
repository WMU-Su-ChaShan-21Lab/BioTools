{
 "cells": [
  {
   "cell_type": "code",
   "execution_count": 1,
   "outputs": [],
   "source": [
    "# -*- encoding: utf-8 -*-\n",
    "\"\"\"\n",
    "@File Name      :   ${NAME}.py\n",
    "@Create Time    :   ${DATE} ${TIME}\n",
    "@Description    :\n",
    "@Version        :\n",
    "@License        :\n",
    "@Author         :   diklios\n",
    "@Contact Email  :   diklios5768@gmail.com\n",
    "@Github         :   https://github.com/diklios5768\n",
    "@Blog           :\n",
    "@Motto          :   All our science, measured against reality, is primitive and childlike - and yet it is the most precious thing we have.\n",
    "\"\"\"\n",
    "__auth__='diklios'\n",
    "# 测试完成后请删除所有代码"
   ],
   "metadata": {
    "collapsed": false,
    "pycharm": {
     "name": "#%%\n"
    }
   }
  },
  {
   "cell_type": "code",
   "execution_count": null,
   "outputs": [],
   "source": [],
   "metadata": {
    "collapsed": false,
    "pycharm": {
     "name": "#%%\n"
    }
   }
  }
 ],
 "metadata": {
  "kernelspec": {
   "display_name": "Python 3.10.2 ('algorithm')",
   "language": "python",
   "name": "python3"
  },
  "language_info": {
   "codemirror_mode": {
    "name": "ipython",
    "version": 3
   },
   "file_extension": ".py",
   "mimetype": "text/x-python",
   "name": "python",
   "nbconvert_exporter": "python",
   "pygments_lexer": "ipython3",
   "version": "3.10.2"
  },
  "vscode": {
   "interpreter": {
    "hash": "0b9b1eea92fa5406da4b6856631a03c7281352a94acb3be925a05985f7dace9d"
   }
  }
 },
 "nbformat": 4,
 "nbformat_minor": 0
}